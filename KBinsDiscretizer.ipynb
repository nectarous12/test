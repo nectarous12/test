{
 "cells": [
  {
   "cell_type": "markdown",
   "id": "peaceful-means",
   "metadata": {},
   "source": [
    "### KBinsDiscretizer"
   ]
  },
  {
   "cell_type": "code",
   "execution_count": 43,
   "id": "authorized-healing",
   "metadata": {},
   "outputs": [],
   "source": [
    "# discretize numeric input variables\n",
    "from sklearn.datasets import make_classification\n",
    "from sklearn.preprocessing import KBinsDiscretizer"
   ]
  },
  {
   "cell_type": "code",
   "execution_count": 44,
   "id": "0144e8de-a254-4701-a939-40289bca759b",
   "metadata": {},
   "outputs": [],
   "source": [
    "import pandas as pd"
   ]
  },
  {
   "cell_type": "code",
   "execution_count": 20,
   "id": "sound-sustainability",
   "metadata": {},
   "outputs": [
    {
     "name": "stdout",
     "output_type": "stream",
     "text": [
      "[[-1.68946284  0.47814224 -1.4159231  -0.9966515   0.2534083 ]\n",
      " [ 1.62396887  1.10351079  0.06765056  2.19392866  1.57927283]\n",
      " [ 0.84974941 -1.89498192 -0.83533631 -0.8068739  -2.05687097]]\n"
     ]
    }
   ],
   "source": [
    "# define dataset\n",
    "X, y = make_classification(n_samples=5000000, n_features=5, random_state=1)\n",
    "                          #n_informative=5, n_redundant=0,)\n",
    "\n",
    "# summarize data before the transform\n",
    "print(X[:3, :])"
   ]
  },
  {
   "cell_type": "code",
   "execution_count": 21,
   "id": "99072c8f-7ee5-44a0-9a33-65ae4e546454",
   "metadata": {},
   "outputs": [
    {
     "data": {
      "text/plain": [
       "(5000000, 5)"
      ]
     },
     "execution_count": 21,
     "metadata": {},
     "output_type": "execute_result"
    }
   ],
   "source": [
    "X.shape"
   ]
  },
  {
   "cell_type": "code",
   "execution_count": 25,
   "id": "0d69a2cb-23ba-4508-924d-657fdc3e832c",
   "metadata": {},
   "outputs": [
    {
     "data": {
      "text/plain": [
       "(5000000,)"
      ]
     },
     "execution_count": 25,
     "metadata": {},
     "output_type": "execute_result"
    }
   ],
   "source": [
    "y.shape"
   ]
  },
  {
   "cell_type": "code",
   "execution_count": 28,
   "id": "5ab2b802-d2db-4631-86f9-eddc1cd7b3da",
   "metadata": {},
   "outputs": [
    {
     "data": {
      "text/plain": [
       "array([-1.68946284,  0.47814224, -1.4159231 , -0.9966515 ,  0.2534083 ])"
      ]
     },
     "execution_count": 28,
     "metadata": {},
     "output_type": "execute_result"
    }
   ],
   "source": [
    "X[0,:]"
   ]
  },
  {
   "cell_type": "code",
   "execution_count": 30,
   "id": "e605ccd6-7f34-4225-8c2f-b472ee46b8d3",
   "metadata": {},
   "outputs": [
    {
     "data": {
      "text/plain": [
       "-8.219719039587165"
      ]
     },
     "execution_count": 30,
     "metadata": {},
     "output_type": "execute_result"
    }
   ],
   "source": [
    "X.min()"
   ]
  },
  {
   "cell_type": "code",
   "execution_count": 32,
   "id": "17a60fa8-a253-48c3-85d4-d9591a257b8b",
   "metadata": {},
   "outputs": [
    {
     "data": {
      "text/plain": [
       "0"
      ]
     },
     "execution_count": 32,
     "metadata": {},
     "output_type": "execute_result"
    }
   ],
   "source": [
    "y.min()"
   ]
  },
  {
   "cell_type": "code",
   "execution_count": 34,
   "id": "b1a3b438-df92-4771-a371-2059779bfa3f",
   "metadata": {},
   "outputs": [
    {
     "data": {
      "text/plain": [
       "0.0001948211935090282"
      ]
     },
     "execution_count": 34,
     "metadata": {},
     "output_type": "execute_result"
    }
   ],
   "source": [
    "X.mean()"
   ]
  },
  {
   "cell_type": "code",
   "execution_count": 37,
   "id": "32ffd628-45e4-4270-84d3-3c0ebb3d3445",
   "metadata": {},
   "outputs": [
    {
     "data": {
      "text/plain": [
       "0.5000458"
      ]
     },
     "execution_count": 37,
     "metadata": {},
     "output_type": "execute_result"
    }
   ],
   "source": [
    "y.mean()"
   ]
  },
  {
   "cell_type": "code",
   "execution_count": 39,
   "id": "71c44ced-ba39-4e65-bb4e-8dfc4de3e86d",
   "metadata": {},
   "outputs": [
    {
     "name": "stdout",
     "output_type": "stream",
     "text": [
      "[6. 5. 5. 6. 5.]\n"
     ]
    }
   ],
   "source": [
    "print(X_discrete[1,:])"
   ]
  },
  {
   "cell_type": "code",
   "execution_count": 41,
   "id": "ce5d033b-00bc-4c4a-8c3c-6ee6e2193eff",
   "metadata": {},
   "outputs": [
    {
     "name": "stdout",
     "output_type": "stream",
     "text": [
      "[4. 5. 3. 4. 4.]\n"
     ]
    }
   ],
   "source": [
    "print(X_discrete[0,:])"
   ]
  },
  {
   "cell_type": "code",
   "execution_count": 45,
   "id": "6bbc012c-02a1-4582-931f-3d3e8b09947e",
   "metadata": {},
   "outputs": [],
   "source": [
    "data=pd.DataFrame(X)"
   ]
  },
  {
   "cell_type": "code",
   "execution_count": 47,
   "id": "38cc7f5b-5b7f-4d9c-933f-d2c90cb64b2b",
   "metadata": {},
   "outputs": [
    {
     "data": {
      "text/html": [
       "<div>\n",
       "<style scoped>\n",
       "    .dataframe tbody tr th:only-of-type {\n",
       "        vertical-align: middle;\n",
       "    }\n",
       "\n",
       "    .dataframe tbody tr th {\n",
       "        vertical-align: top;\n",
       "    }\n",
       "\n",
       "    .dataframe thead th {\n",
       "        text-align: right;\n",
       "    }\n",
       "</style>\n",
       "<table border=\"1\" class=\"dataframe\">\n",
       "  <thead>\n",
       "    <tr style=\"text-align: right;\">\n",
       "      <th></th>\n",
       "      <th>0</th>\n",
       "      <th>1</th>\n",
       "      <th>2</th>\n",
       "      <th>3</th>\n",
       "      <th>4</th>\n",
       "    </tr>\n",
       "  </thead>\n",
       "  <tbody>\n",
       "    <tr>\n",
       "      <th>count</th>\n",
       "      <td>5.000000e+06</td>\n",
       "      <td>5.000000e+06</td>\n",
       "      <td>5.000000e+06</td>\n",
       "      <td>5.000000e+06</td>\n",
       "      <td>5.000000e+06</td>\n",
       "    </tr>\n",
       "    <tr>\n",
       "      <th>mean</th>\n",
       "      <td>1.830956e-05</td>\n",
       "      <td>-3.797646e-05</td>\n",
       "      <td>1.049892e-03</td>\n",
       "      <td>-1.512856e-05</td>\n",
       "      <td>-4.099031e-05</td>\n",
       "    </tr>\n",
       "    <tr>\n",
       "      <th>std</th>\n",
       "      <td>1.333932e+00</td>\n",
       "      <td>1.072208e+00</td>\n",
       "      <td>1.000003e+00</td>\n",
       "      <td>1.404570e+00</td>\n",
       "      <td>1.282934e+00</td>\n",
       "    </tr>\n",
       "    <tr>\n",
       "      <th>min</th>\n",
       "      <td>-7.667834e+00</td>\n",
       "      <td>-4.227192e+00</td>\n",
       "      <td>-5.160320e+00</td>\n",
       "      <td>-8.219719e+00</td>\n",
       "      <td>-4.486516e+00</td>\n",
       "    </tr>\n",
       "    <tr>\n",
       "      <th>25%</th>\n",
       "      <td>-1.020157e+00</td>\n",
       "      <td>-8.651057e-01</td>\n",
       "      <td>-6.735341e-01</td>\n",
       "      <td>-1.307602e+00</td>\n",
       "      <td>-1.026576e+00</td>\n",
       "    </tr>\n",
       "    <tr>\n",
       "      <th>50%</th>\n",
       "      <td>1.102246e-01</td>\n",
       "      <td>5.035164e-03</td>\n",
       "      <td>9.569271e-04</td>\n",
       "      <td>-8.969141e-02</td>\n",
       "      <td>-1.559646e-01</td>\n",
       "    </tr>\n",
       "    <tr>\n",
       "      <th>75%</th>\n",
       "      <td>1.043905e+00</td>\n",
       "      <td>8.403154e-01</td>\n",
       "      <td>6.753055e-01</td>\n",
       "      <td>8.783960e-01</td>\n",
       "      <td>1.002733e+00</td>\n",
       "    </tr>\n",
       "    <tr>\n",
       "      <th>max</th>\n",
       "      <td>5.974749e+00</td>\n",
       "      <td>4.886536e+00</td>\n",
       "      <td>5.157835e+00</td>\n",
       "      <td>8.725264e+00</td>\n",
       "      <td>6.774269e+00</td>\n",
       "    </tr>\n",
       "  </tbody>\n",
       "</table>\n",
       "</div>"
      ],
      "text/plain": [
       "                  0             1             2             3             4\n",
       "count  5.000000e+06  5.000000e+06  5.000000e+06  5.000000e+06  5.000000e+06\n",
       "mean   1.830956e-05 -3.797646e-05  1.049892e-03 -1.512856e-05 -4.099031e-05\n",
       "std    1.333932e+00  1.072208e+00  1.000003e+00  1.404570e+00  1.282934e+00\n",
       "min   -7.667834e+00 -4.227192e+00 -5.160320e+00 -8.219719e+00 -4.486516e+00\n",
       "25%   -1.020157e+00 -8.651057e-01 -6.735341e-01 -1.307602e+00 -1.026576e+00\n",
       "50%    1.102246e-01  5.035164e-03  9.569271e-04 -8.969141e-02 -1.559646e-01\n",
       "75%    1.043905e+00  8.403154e-01  6.753055e-01  8.783960e-01  1.002733e+00\n",
       "max    5.974749e+00  4.886536e+00  5.157835e+00  8.725264e+00  6.774269e+00"
      ]
     },
     "execution_count": 47,
     "metadata": {},
     "output_type": "execute_result"
    }
   ],
   "source": [
    "data.describe()"
   ]
  },
  {
   "cell_type": "code",
   "execution_count": 23,
   "id": "exceptional-policy",
   "metadata": {},
   "outputs": [],
   "source": [
    "# define the transform\n",
    "trans = KBinsDiscretizer(n_bins=10, encode='ordinal', strategy='uniform')"
   ]
  },
  {
   "cell_type": "code",
   "execution_count": 24,
   "id": "agreed-nursery",
   "metadata": {
    "tags": []
   },
   "outputs": [
    {
     "name": "stdout",
     "output_type": "stream",
     "text": [
      "[[4. 5. 3. 4. 4.]\n",
      " [6. 5. 5. 6. 5.]\n",
      " [6. 2. 4. 4. 2.]]\n"
     ]
    }
   ],
   "source": [
    "# transform the data\n",
    "X_discrete = trans.fit_transform(X)\n",
    "\n",
    "# summarize data after the transform\n",
    "print(X_discrete[:3, :])"
   ]
  },
  {
   "cell_type": "code",
   "execution_count": null,
   "id": "large-swedish",
   "metadata": {},
   "outputs": [],
   "source": []
  }
 ],
 "metadata": {
  "kernelspec": {
   "display_name": "Python 3",
   "language": "python",
   "name": "python3"
  },
  "language_info": {
   "codemirror_mode": {
    "name": "ipython",
    "version": 3
   },
   "file_extension": ".py",
   "mimetype": "text/x-python",
   "name": "python",
   "nbconvert_exporter": "python",
   "pygments_lexer": "ipython3",
   "version": "3.7.6"
  }
 },
 "nbformat": 4,
 "nbformat_minor": 5
}
