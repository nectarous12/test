{
 "cells": [
  {
   "cell_type": "code",
   "execution_count": 15,
   "id": "fb742a91-2aaa-4c49-a8f8-3f9aaa97a76f",
   "metadata": {},
   "outputs": [],
   "source": [
    "import requests\n",
    "import lxml.html\n",
    "import cssselect"
   ]
  },
  {
   "cell_type": "code",
   "execution_count": 2,
   "id": "81e8a3f5-54dd-4229-8dcc-3bdb7d979595",
   "metadata": {},
   "outputs": [],
   "source": [
    "r = requests.get(\"http://wikibook.co.kr/python-for-web-scraping/\")\n",
    "html = r.text"
   ]
  },
  {
   "cell_type": "code",
   "execution_count": 5,
   "id": "0870cc77-9f6f-4154-a6c0-6344469fc5a6",
   "metadata": {},
   "outputs": [],
   "source": [
    "#r.text"
   ]
  },
  {
   "cell_type": "code",
   "execution_count": 6,
   "id": "915da754-729c-4dee-a529-99618e2129b6",
   "metadata": {},
   "outputs": [],
   "source": [
    "# HTML을 HtmlElement 객체로 변환합니다.\n",
    "root = lxml.html.fromstring(html)"
   ]
  },
  {
   "cell_type": "code",
   "execution_count": 7,
   "id": "55bbe79d-6191-4976-a381-885d1b9e68c4",
   "metadata": {},
   "outputs": [],
   "source": [
    "# XPath를 사용해서 요소를 추출합니다.\n",
    "titleElement = root.xpath('//*[@id=\"content\"]/div[1]/div[2]/h1')"
   ]
  },
  {
   "cell_type": "code",
   "execution_count": 8,
   "id": "c3aa2201-e2dc-4903-a9da-b0cb9c76d90a",
   "metadata": {},
   "outputs": [
    {
     "data": {
      "text/plain": [
       "list"
      ]
     },
     "execution_count": 8,
     "metadata": {},
     "output_type": "execute_result"
    }
   ],
   "source": [
    "type(titleElement)"
   ]
  },
  {
   "cell_type": "code",
   "execution_count": 9,
   "id": "81c2a98a-5cee-469b-98e1-305f1898661c",
   "metadata": {},
   "outputs": [
    {
     "name": "stdout",
     "output_type": "stream",
     "text": [
      "파이썬을 이용한 웹 크롤링과 스크레이핑\n"
     ]
    }
   ],
   "source": [
    "print(titleElement[0].text)"
   ]
  },
  {
   "cell_type": "code",
   "execution_count": 10,
   "id": "0260e78e-dd8e-4632-8669-728a51826973",
   "metadata": {},
   "outputs": [
    {
     "data": {
      "text/plain": [
       "'h1'"
      ]
     },
     "execution_count": 10,
     "metadata": {},
     "output_type": "execute_result"
    }
   ],
   "source": [
    "titleElement[0].tag"
   ]
  },
  {
   "cell_type": "code",
   "execution_count": null,
   "id": "fa39e264-c6e6-4b41-b076-1cbddb67de2e",
   "metadata": {},
   "outputs": [],
   "source": []
  },
  {
   "cell_type": "code",
   "execution_count": 19,
   "id": "790a1a64-deb2-4a06-b659-8cc6077027ca",
   "metadata": {},
   "outputs": [],
   "source": [
    "# CSS 선택자를 사용해서 요소를 추출합니다.\n",
    "linkAs = root.cssselect('#book-stores > li > a')"
   ]
  },
  {
   "cell_type": "code",
   "execution_count": 20,
   "id": "5ab8ba47-767e-4442-80f7-ac79aa1e1f70",
   "metadata": {},
   "outputs": [
    {
     "name": "stdout",
     "output_type": "stream",
     "text": [
      "http://www.yes24.com/24/goods/59307498\n",
      "http://www.kyobobook.co.kr/product/detailViewKor.laf?barcode=9791158390952\n",
      "http://book.interpark.com/product/BookDisplay.do?_method=detail&sc.prdNo=281415537\n",
      "http://www.aladin.co.kr/shop/wproduct.aspx?ItemId=137872443\n"
     ]
    }
   ],
   "source": [
    "## for 반복문으로 추출한 요소의 href 속성을 추출합니다.\n",
    "for linkA in linkAs:\n",
    "    print(linkA.attrib[\"href\"])"
   ]
  },
  {
   "cell_type": "code",
   "execution_count": null,
   "id": "e77d6497-2397-4438-852c-4f934b51c030",
   "metadata": {},
   "outputs": [],
   "source": []
  }
 ],
 "metadata": {
  "kernelspec": {
   "display_name": "Python Django",
   "language": "python",
   "name": "django"
  },
  "language_info": {
   "codemirror_mode": {
    "name": "ipython",
    "version": 3
   },
   "file_extension": ".py",
   "mimetype": "text/x-python",
   "name": "python",
   "nbconvert_exporter": "python",
   "pygments_lexer": "ipython3",
   "version": "3.8.3"
  }
 },
 "nbformat": 4,
 "nbformat_minor": 5
}
