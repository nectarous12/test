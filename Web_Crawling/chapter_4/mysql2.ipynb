{
 "cells": [
  {
   "cell_type": "code",
   "execution_count": 2,
   "id": "473e3416-2231-4dc0-8bc4-232bb6bb0ff6",
   "metadata": {},
   "outputs": [],
   "source": [
    "import feedparser\n",
    "import MySQLdb"
   ]
  },
  {
   "cell_type": "code",
   "execution_count": 5,
   "id": "36a18791-4d47-413a-9aef-8faadeb310ee",
   "metadata": {},
   "outputs": [],
   "source": [
    "# 데이터베이스 연결하기\n",
    "connection = MySQLdb.connect(\n",
    "    user=\"root\",\n",
    "    passwd=\"7756\",\n",
    "    host=\"localhost\",\n",
    "    db=\"tip\",\n",
    "    charset=\"utf8\")"
   ]
  },
  {
   "cell_type": "code",
   "execution_count": 6,
   "id": "745b540b-3135-4c66-9412-b9fd4e909388",
   "metadata": {},
   "outputs": [],
   "source": [
    "# 커서 생성하기\n",
    "cursor = connection.cursor()"
   ]
  },
  {
   "cell_type": "code",
   "execution_count": 7,
   "id": "662e5c6e-5fdf-4f89-9e7d-6a13cdec4270",
   "metadata": {},
   "outputs": [
    {
     "data": {
      "text/plain": [
       "0"
      ]
     },
     "execution_count": 7,
     "metadata": {},
     "output_type": "execute_result"
    }
   ],
   "source": [
    "# 실행할 때마다 같은 레코드가 중복되어 들어가지 않게 테이블을 제거해두기\n",
    "cursor.execute(\"DROP TABLE IF EXISTS books\")"
   ]
  },
  {
   "cell_type": "code",
   "execution_count": 8,
   "id": "929277a9-560f-4c49-8339-77b795623487",
   "metadata": {},
   "outputs": [
    {
     "data": {
      "text/plain": [
       "0"
      ]
     },
     "execution_count": 8,
     "metadata": {},
     "output_type": "execute_result"
    }
   ],
   "source": [
    "# 테이블 생성하기\n",
    "cursor.execute(\"CREATE TABLE books (title text, url text)\")"
   ]
  },
  {
   "cell_type": "code",
   "execution_count": 9,
   "id": "0ad534d0-a5af-4d1b-a330-f8e2c0ab6fd5",
   "metadata": {},
   "outputs": [],
   "source": [
    "# URL을 지정해서 FeedParserDict 객체 생성하기\n",
    "rss = feedparser.parse(\"http://www.aladin.co.kr/rss/special_new/351\")"
   ]
  },
  {
   "cell_type": "code",
   "execution_count": 10,
   "id": "81d0c1bf-dca8-43d4-b021-096af9164893",
   "metadata": {},
   "outputs": [
    {
     "name": "stdout",
     "output_type": "stream",
     "text": [
      "rss20\n"
     ]
    }
   ],
   "source": [
    "# RSS 버전 확인하기\n",
    "print(rss.version)"
   ]
  },
  {
   "cell_type": "code",
   "execution_count": 11,
   "id": "80d4a53a-6676-4d20-a730-6aa3987362f7",
   "metadata": {},
   "outputs": [
    {
     "name": "stdout",
     "output_type": "stream",
     "text": [
      "분야별 신간 특선 - 컴퓨터/모바일\n"
     ]
    }
   ],
   "source": [
    "# 피드의 제목\n",
    "print(rss[\"feed\"][\"title\"])"
   ]
  },
  {
   "cell_type": "code",
   "execution_count": 12,
   "id": "34de7957-06a3-4211-a838-b5e3c414f924",
   "metadata": {},
   "outputs": [],
   "source": [
    "# 반복 적용\n",
    "for content in rss[\"entries\"]:\n",
    "    # 데이터 저장하기\n",
    "    cursor.execute(\"INSERT INTO books VALUES(%s, %s)\", (content[\"title\"], content[\"link\"])) "
   ]
  },
  {
   "cell_type": "code",
   "execution_count": 13,
   "id": "97e7fe9b-4986-4407-baeb-bc4a92c020bf",
   "metadata": {},
   "outputs": [],
   "source": [
    "# 커밋하기\n",
    "connection.commit()"
   ]
  },
  {
   "cell_type": "code",
   "execution_count": 14,
   "id": "18d6f1db-8a56-4021-92d3-db09d52e9e1e",
   "metadata": {},
   "outputs": [],
   "source": [
    "# 연결 종료하기\n",
    "connection.close()"
   ]
  },
  {
   "cell_type": "code",
   "execution_count": null,
   "id": "baab392d-f04f-4941-a097-94a1a5d23890",
   "metadata": {},
   "outputs": [],
   "source": []
  }
 ],
 "metadata": {
  "kernelspec": {
   "display_name": "Python Django",
   "language": "python",
   "name": "django"
  },
  "language_info": {
   "codemirror_mode": {
    "name": "ipython",
    "version": 3
   },
   "file_extension": ".py",
   "mimetype": "text/x-python",
   "name": "python",
   "nbconvert_exporter": "python",
   "pygments_lexer": "ipython3",
   "version": "3.8.3"
  }
 },
 "nbformat": 4,
 "nbformat_minor": 5
}
